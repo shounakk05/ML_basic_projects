{
  "nbformat": 4,
  "nbformat_minor": 0,
  "metadata": {
    "colab": {
      "provenance": [],
      "authorship_tag": "ABX9TyPTawt1vJNgc6/6Fc8Hea2X",
      "include_colab_link": true
    },
    "kernelspec": {
      "name": "python3",
      "display_name": "Python 3"
    },
    "language_info": {
      "name": "python"
    }
  },
  "cells": [
    {
      "cell_type": "markdown",
      "metadata": {
        "id": "view-in-github",
        "colab_type": "text"
      },
      "source": [
        "<a href=\"https://colab.research.google.com/github/shounakk05/ML_basic_projects/blob/main/Diabetes_prediction_prj.ipynb\" target=\"_parent\"><img src=\"https://colab.research.google.com/assets/colab-badge.svg\" alt=\"Open In Colab\"/></a>"
      ]
    },
    {
      "cell_type": "markdown",
      "source": [
        "This ML project will use the SVM(Support Vector Machine)"
      ],
      "metadata": {
        "id": "4vn7y2QPOkQs"
      }
    },
    {
      "cell_type": "code",
      "source": [
        "import numpy as np\n",
        "import pandas as pd\n",
        "from sklearn.preprocessing import StandardScaler #used to standardize features\n",
        "from sklearn.model_selection import train_test_split\n",
        "from sklearn import svm\n",
        "from sklearn.metrics import accuracy_score"
      ],
      "metadata": {
        "id": "_xMsgT8XOzPU"
      },
      "execution_count": null,
      "outputs": []
    },
    {
      "cell_type": "markdown",
      "source": [
        "Data collection and Analysis"
      ],
      "metadata": {
        "id": "Gr4FHUt5UsOE"
      }
    },
    {
      "cell_type": "code",
      "source": [
        "# Loading the dataset into a pandas dataframe\n",
        "diab_ds = pd.read_csv('/content/diabetes.csv')"
      ],
      "metadata": {
        "id": "4-lijkaXUkuv"
      },
      "execution_count": null,
      "outputs": []
    },
    {
      "cell_type": "code",
      "source": [
        "diab_ds.head()\n",
        "# 1-->Diabetic 0-->Non Diabetic"
      ],
      "metadata": {
        "id": "fUf6e0eMVu90"
      },
      "execution_count": null,
      "outputs": []
    },
    {
      "cell_type": "code",
      "source": [
        "diab_ds.shape"
      ],
      "metadata": {
        "id": "9KzL8NWIWC8C"
      },
      "execution_count": null,
      "outputs": []
    },
    {
      "cell_type": "code",
      "source": [
        "# Statistical measures of data\n",
        "diab_ds.describe()"
      ],
      "metadata": {
        "id": "eyQoNId-Wr3a"
      },
      "execution_count": null,
      "outputs": []
    },
    {
      "cell_type": "code",
      "source": [
        "diab_ds['Outcome'].value_counts()"
      ],
      "metadata": {
        "id": "JeEAJadEXZoK"
      },
      "execution_count": null,
      "outputs": []
    },
    {
      "cell_type": "code",
      "source": [
        "diab_ds.groupby('Outcome').mean()"
      ],
      "metadata": {
        "id": "bztK1AhjX3aC"
      },
      "execution_count": null,
      "outputs": []
    },
    {
      "cell_type": "code",
      "source": [
        "# Seperating data and labels\n",
        "X = diab_ds.drop(columns='Outcome', axis=1)\n",
        "Y = diab_ds['Outcome']"
      ],
      "metadata": {
        "id": "hKTDr6SIaWqr"
      },
      "execution_count": null,
      "outputs": []
    },
    {
      "cell_type": "code",
      "source": [
        "print(X)"
      ],
      "metadata": {
        "id": "NQahtLaCbFbC"
      },
      "execution_count": null,
      "outputs": []
    },
    {
      "cell_type": "code",
      "source": [
        "print(Y)"
      ],
      "metadata": {
        "id": "o4WL_c9cciKi"
      },
      "execution_count": null,
      "outputs": []
    },
    {
      "cell_type": "markdown",
      "source": [
        "Standardising the data"
      ],
      "metadata": {
        "id": "AOk9u1C6c2oE"
      }
    },
    {
      "cell_type": "code",
      "source": [
        "scaler = StandardScaler()"
      ],
      "metadata": {
        "id": "U6l4VbMldDgj"
      },
      "execution_count": null,
      "outputs": []
    },
    {
      "cell_type": "code",
      "source": [
        "scaler.fit(X)"
      ],
      "metadata": {
        "id": "vFEEGrPFXX3K"
      },
      "execution_count": null,
      "outputs": []
    },
    {
      "cell_type": "code",
      "source": [
        "std_data = scaler.transform(X)"
      ],
      "metadata": {
        "id": "JK5FMh7aXks5"
      },
      "execution_count": null,
      "outputs": []
    },
    {
      "cell_type": "code",
      "source": [
        "print(std_data)"
      ],
      "metadata": {
        "id": "rGPm88ZqX4T5"
      },
      "execution_count": null,
      "outputs": []
    },
    {
      "cell_type": "code",
      "source": [
        "X = std_data\n",
        "Y = diab_ds['Outcome']"
      ],
      "metadata": {
        "id": "mrOb1_xlY9qS"
      },
      "execution_count": null,
      "outputs": []
    },
    {
      "cell_type": "markdown",
      "source": [
        "Train Test split"
      ],
      "metadata": {
        "id": "SXqnb6q6ZxZa"
      }
    },
    {
      "cell_type": "code",
      "source": [
        "X_train, X_test, Y_train, Y_test = train_test_split(X, Y, test_size = 0.2, stratify = Y, random_state = 2)"
      ],
      "metadata": {
        "id": "cbJfcC_kZ2W6"
      },
      "execution_count": null,
      "outputs": []
    },
    {
      "cell_type": "code",
      "source": [
        "print(X.shape, Y.shape, X_train.shape, X_test.shape, Y_train.shape, Y_test.shape)"
      ],
      "metadata": {
        "id": "BYeQycOGbT-a"
      },
      "execution_count": null,
      "outputs": []
    },
    {
      "cell_type": "markdown",
      "source": [
        "Training the Model"
      ],
      "metadata": {
        "id": "pac-M-jlTwWW"
      }
    },
    {
      "cell_type": "code",
      "source": [
        "classifier = svm.SVC(kernel='linear') #Used to load svm, SVC=Support Vector Classifier"
      ],
      "metadata": {
        "id": "Nmak5WQOSQ8N"
      },
      "execution_count": null,
      "outputs": []
    },
    {
      "cell_type": "code",
      "source": [
        "#Training the svm Classifier\n",
        "classifier.fit(X_train,Y_train) #The parameter should be the training data"
      ],
      "metadata": {
        "id": "2unhHECwVQM7"
      },
      "execution_count": null,
      "outputs": []
    },
    {
      "cell_type": "markdown",
      "source": [
        "Evaluating our Model"
      ],
      "metadata": {
        "id": "E-6LHwTaV3sm"
      }
    },
    {
      "cell_type": "code",
      "source": [
        "#Accuracy Score on the training data, labels won't be provided\n",
        "X_train_prediction = classifier.predict(X_train)\n",
        "training_data_accuracy = accuracy_score(X_train_prediction, Y_train) #Comparing the values of X_train_prediction to Y_train to calculate the accuracy score"
      ],
      "metadata": {
        "id": "Wd88KeweVwdM"
      },
      "execution_count": null,
      "outputs": []
    },
    {
      "cell_type": "code",
      "source": [
        "print(\"Accuracy Score:\",training_data_accuracy) #0.7866 means 78% accuracy"
      ],
      "metadata": {
        "id": "kpmybC0jXaK2"
      },
      "execution_count": null,
      "outputs": []
    },
    {
      "cell_type": "code",
      "source": [
        "#Accuracy Score on the test data, labels won't be provided\n",
        "X_test_prediction = classifier.predict(X_test)\n",
        "test_data_accuracy = accuracy_score(X_test_prediction, Y_test)"
      ],
      "metadata": {
        "id": "GSso7ZUUXdRj"
      },
      "execution_count": null,
      "outputs": []
    },
    {
      "cell_type": "code",
      "source": [
        "print(\"Accuracy score for test data:\",test_data_accuracy)"
      ],
      "metadata": {
        "id": "KTVlYelDeAZG"
      },
      "execution_count": null,
      "outputs": []
    },
    {
      "cell_type": "markdown",
      "source": [
        "Making a predictive system"
      ],
      "metadata": {
        "id": "8MrnLORpfbNF"
      }
    },
    {
      "cell_type": "code",
      "source": [
        "input_data = (8,125,96,0,0,0,0.232,54)\n",
        "\n",
        "#Makuing the input data into a numpy array\n",
        "input_data_as_nparray = np.asarray(input_data)\n",
        "\n",
        "#Reshaping the array for predicting one instance\n",
        "input_data_reshaped = input_data_as_nparray.reshape(1,-1)\n",
        "\n",
        "#Standardize the input data\n",
        "std_data = scaler.transform(input_data_reshaped)\n",
        "print(std_data)\n",
        "\n",
        "prediction = classifier.predict(std_data)\n",
        "print(prediction)\n",
        "\n",
        "if(prediction == 0):\n",
        "  print(\"Non-Diabetic\")\n",
        "else:\n",
        "  print(\"Diabetic\")"
      ],
      "metadata": {
        "id": "5zYR9p3AeGtb"
      },
      "execution_count": null,
      "outputs": []
    },
    {
      "cell_type": "code",
      "source": [],
      "metadata": {
        "id": "ASdP6jHrhsUt"
      },
      "execution_count": null,
      "outputs": []
    }
  ]
}